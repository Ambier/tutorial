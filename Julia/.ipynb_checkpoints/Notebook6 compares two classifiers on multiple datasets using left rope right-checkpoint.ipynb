{
 "cells": [
  {
   "cell_type": "markdown",
   "metadata": {},
   "source": [
    "# Print all the p-values for the comparison of all 5 classifiers on multiple datasets"
   ]
  },
  {
   "cell_type": "code",
   "execution_count": 4,
   "metadata": {
    "collapsed": false
   },
   "outputs": [
    {
     "name": "stdout",
     "output_type": "stream",
     "text": [
      "nbc & aode & 0.000 \\\\\n",
      "nbc & hnb & 0.001 \\\\\n",
      "nbc & j48 & 0.463 \\\\\n",
      "nbc & j48gr & 0.394 \\\\\n",
      "aode & hnb & 0.654 \\\\\n",
      "aode & j48 & 0.077 \\\\\n",
      "aode & j48gr & 0.106 \\\\\n",
      "hnb & j48 & 0.067 \\\\\n",
      "hn"
     ]
    },
    {
     "ename": "LoadError",
     "evalue": "LoadError: UndefVarError: tieadj not defined\nwhile loading In[4], in expression starting on line 12",
     "output_type": "error",
     "traceback": [
      "LoadError: UndefVarError: tieadj not defined\nwhile loading In[4], in expression starting on line 12",
      "",
      " in SignedRankTest at /home/benavoli/.julia/v0.4/HypothesisTests/src/wilcoxon.jl:33",
      " [inlined code] from In[4]:29",
      " in anonymous at no file:0"
     ]
    },
    {
     "name": "stdout",
     "output_type": "stream",
     "text": [
      "b & j48gr & 0.084 \\\\\n"
     ]
    }
   ],
   "source": [
    "using HypothesisTests\n",
    "ClassID = readdlm(\"Data/ClassifierID.dat\", ',')\n",
    "ClassNames = readdlm(\"Data/ClassifierNames.dat\", ',')\n",
    "DatasetID = readdlm(\"Data/DatasetID.dat\", ',');\n",
    "DatasetNames = readdlm(\"Data/DatasetNames.dat\", ',');\n",
    "Percent_correct = readdlm(\"Data/Percent_correct.dat\", ',');\n",
    "\n",
    "\n",
    "\n",
    "\n",
    "ii=0\n",
    "for cl1=1:Int32(maximum(ClassID))\n",
    "    for cl2=cl1+1:Int32(maximum(ClassID))\n",
    "\n",
    "        ii=ii+1\n",
    "        indi=find(x->x==cl1,ClassID)\n",
    "        indj=find(x->x==cl2,ClassID)\n",
    "        acci=Float64[]\n",
    "        accj=Float64[]\n",
    "        for d=1:Int32(maximum(DatasetID))\n",
    "            indd=find(x->x==d,DatasetID)\n",
    "            indid=intersect(indi,indd)\n",
    "            indjd=intersect(indj,indd)\n",
    "            push!(acci,mean(Percent_correct[indid])/100)\n",
    "            push!(accj,mean(Percent_correct[indjd])/100)\n",
    "        end\n",
    "\n",
    "        \n",
    "     pvalSignedRankTest=pvalue(SignedRankTest(acci,accj))\n",
    "\n",
    "     @printf \"%s & %s & %1.3f \\\\\\\\\\n\" ClassNames[cl1] ClassNames[cl2] pvalSignedRankTest\n",
    "\n",
    "    end\n",
    "end"
   ]
  },
  {
   "cell_type": "code",
   "execution_count": 11,
   "metadata": {
    "collapsed": false,
    "scrolled": true
   },
   "outputs": [
    {
     "name": "stdout",
     "output_type": "stream",
     "text": [
      "0.059365858845864115 0.2300485159324761 0.7105856252216598\n",
      "0.17136114311673953 0.1371558759854184 0.6914829808978422\n",
      "0.382062870220831 0.12745505035695237 0.49048207942221655\n",
      "0.3709608694829359 0.12350860219959246 0.5055305283174717\n",
      "0.3023330810308564 0.30737986517243676 0.39028705379670675\n",
      "0.552893017058074 0.16030560380168932 0.28680137914023657\n",
      "0.5407946642628139 0.16149325871547812 0.29771207702170815\n",
      "0.5757302314397273 0.14560814978451636 0.2786616187757564\n",
      "0.564986292523267 0.14833912929768908 0.28667457817904385\n",
      "0.0 0.9375499107560903 0.06245008924390969\n"
     ]
    }
   ],
   "source": [
    "using  Distributions\n",
    "using DataFrames\n",
    "using Gadfly\n",
    "using Compose\n",
    "\n",
    "include(\"Tests/Bsignranktest.jl\")\n",
    "include(\"Tests/Bsigntest.jl\")\n",
    "include(\"Plots/plot_simplex.jl\")\n",
    "\n",
    "ClassID = readdlm(\"Data/ClassifierID.dat\", ',')\n",
    "ClassNames = readdlm(\"Data/ClassifierNames.dat\", ',')\n",
    "DatasetID = readdlm(\"Data/DatasetID.dat\", ',');\n",
    "DatasetNames = readdlm(\"Data/DatasetNames.dat\", ',');\n",
    "Percent_correct = readdlm(\"Data/Percent_correct.dat\", ',');\n",
    "\n",
    "\n",
    "p1=Array{Gadfly.Plot}(Int32(maximum(ClassID)*(maximum(ClassID)-1)/2))\n",
    "data=0\n",
    "\n",
    "ii=0\n",
    "for cl1=1:Int32(maximum(ClassID))\n",
    "    for cl2=cl1+1:Int32(maximum(ClassID))\n",
    "\n",
    "        ii=ii+1\n",
    "indi=find(x->x==cl1,ClassID)\n",
    "indj=find(x->x==cl2,ClassID)\n",
    "acci=Float64[]\n",
    "accj=Float64[]\n",
    "for d=1:Int32(maximum(DatasetID))\n",
    "    indd=find(x->x==d,DatasetID)\n",
    "    indid=intersect(indi,indd)\n",
    "    indjd=intersect(indj,indd)\n",
    "    push!(acci,mean(Percent_correct[indid])/100)\n",
    "    push!(accj,mean(Percent_correct[indjd])/100)\n",
    "end\n",
    "        rope=0.01\n",
    "        #data=Bsigntest(acci,accj,rope)\n",
    "        data=Bsignranktest(acci,accj,rope)\n",
    "        #println(mean(data[3,:]), \" \", mean(data[2,:]), \" \",mean(data[1,:]))\n",
    "        val=zeros(size(data,2),1)\n",
    "        for ind=1:size(data,2)\n",
    "            val[ind,:]=indmax(data[:,ind])\n",
    "        end\n",
    "        \n",
    "        @printf \"%s & %s & %1.3f & %1.3f & %1.3f \\\\\\\\\\n\" ClassNames[cl1] ClassNames[cl2] length(find(x->x==3,val))/length(val) length(find(x->x==2,val))/length(val)  length(find(x->x==1,val))/length(val)\n",
    "        \n",
    "ptriangle=plot_simplex(data, ClassNames[cl1],ClassNames[cl2])\n",
    "p1[ii,:]=ptriangle\n",
    "        \n",
    "     #   pvalSignedRankTest=pvalue(SignedRankTest(acci,accj))\n",
    "\n",
    "    # @printf \"%s & %s & %1.3f \\\\\\\\\\n\" ClassNames[cl1] ClassNames[cl2] pvalSignedRankTest\n",
    "\n",
    "    end\n",
    "end\n",
    "\n",
    "#set_default_plot_size(30cm, 40cm)\n",
    "#display(vstack(hstack(p1[2,1],p1[3,1],p1[4,1]),\n",
    " #              hstack(p1[5,1],p1[6,1],p1[7,1]),\n",
    "  #             hstack(p1[8,1],p1[9,1],p1[10,1])))\n",
    "\n",
    "draw(PDF(\"Plots/plotmanytriangles.pdf\", 30cm, 26cm),vstack(hstack(p1[2,1],p1[3,1],p1[4,1]),\n",
    "               hstack(p1[5,1],p1[6,1],p1[7,1]),\n",
    "               hstack(p1[8,1],p1[9,1],p1[10,1])))"
   ]
  },
  {
   "cell_type": "code",
   "execution_count": null,
   "metadata": {
    "collapsed": false
   },
   "outputs": [],
   "source": [
    "\n"
   ]
  },
  {
   "cell_type": "code",
   "execution_count": null,
   "metadata": {
    "collapsed": false
   },
   "outputs": [],
   "source": []
  },
  {
   "cell_type": "code",
   "execution_count": null,
   "metadata": {
    "collapsed": false
   },
   "outputs": [],
   "source": []
  },
  {
   "cell_type": "code",
   "execution_count": null,
   "metadata": {
    "collapsed": false
   },
   "outputs": [],
   "source": []
  },
  {
   "cell_type": "code",
   "execution_count": null,
   "metadata": {
    "collapsed": true
   },
   "outputs": [],
   "source": []
  }
 ],
 "metadata": {
  "kernelspec": {
   "display_name": "Julia 0.4.2",
   "language": "julia",
   "name": "julia-0.4"
  },
  "language_info": {
   "file_extension": ".jl",
   "mimetype": "application/julia",
   "name": "julia",
   "version": "0.4.5"
  }
 },
 "nbformat": 4,
 "nbformat_minor": 0
}
